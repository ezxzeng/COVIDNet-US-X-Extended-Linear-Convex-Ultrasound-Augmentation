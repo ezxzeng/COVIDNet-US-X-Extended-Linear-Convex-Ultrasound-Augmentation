{
 "cells": [
  {
   "cell_type": "code",
   "execution_count": 1,
   "id": "6d795558",
   "metadata": {},
   "outputs": [],
   "source": [
    "import sys\n",
    "sys.path.append(\"..\")\n",
    "import os\n",
    "import json\n",
    "from dataset import COVID_US_Datset, get_dataloaders\n",
    "from random_warp import WarpProjective\n",
    "from matplotlib import pyplot as plt\n",
    "from skimage.io import imread, imshow"
   ]
  },
  {
   "cell_type": "code",
   "execution_count": 2,
   "id": "1854445c",
   "metadata": {},
   "outputs": [],
   "source": [
    "with open(\"../runs/convex_only/warp_affine/hyperparameters.json\", \"r\") as f:\n",
    "    hp = json.load(f)"
   ]
  },
  {
   "cell_type": "code",
   "execution_count": 3,
   "id": "be1ca106",
   "metadata": {},
   "outputs": [],
   "source": [
    "hp[\"data_params\"][\"batch_size\"] = 1"
   ]
  },
  {
   "cell_type": "code",
   "execution_count": 4,
   "id": "ea00168f",
   "metadata": {},
   "outputs": [
    {
     "name": "stdout",
     "output_type": "stream",
     "text": [
      "Training-set size: 7644 \n",
      "Validation-set size: 2383\n"
     ]
    }
   ],
   "source": [
    "dataloaders, _ = get_dataloaders(**hp[\"data_params\"])"
   ]
  },
  {
   "cell_type": "code",
   "execution_count": 5,
   "id": "041ee346",
   "metadata": {},
   "outputs": [],
   "source": [
    "dataloader = dataloaders[\"train\"]"
   ]
  },
  {
   "cell_type": "code",
   "execution_count": null,
   "id": "b4f154ee",
   "metadata": {},
   "outputs": [],
   "source": [
    "# Display image and label.\n",
    "for i in range(5):\n",
    "    features, train_labels = next(iter(dataloader))\n",
    "    img = features[0].squeeze()\n",
    "    label = train_labels[0]\n",
    "    plt.figure(figsize=(10, 10))\n",
    "    plt.imshow(img, cmap=\"gray\")\n",
    "    plt.show()\n",
    "    print(f\"Label: {label}\")"
   ]
  },
  {
   "cell_type": "code",
   "execution_count": null,
   "id": "912b9251",
   "metadata": {},
   "outputs": [],
   "source": []
  }
 ],
 "metadata": {
  "kernelspec": {
   "display_name": "Python 3 (ipykernel)",
   "language": "python",
   "name": "python3"
  },
  "language_info": {
   "codemirror_mode": {
    "name": "ipython",
    "version": 3
   },
   "file_extension": ".py",
   "mimetype": "text/x-python",
   "name": "python",
   "nbconvert_exporter": "python",
   "pygments_lexer": "ipython3",
   "version": "3.8.5"
  }
 },
 "nbformat": 4,
 "nbformat_minor": 5
}
