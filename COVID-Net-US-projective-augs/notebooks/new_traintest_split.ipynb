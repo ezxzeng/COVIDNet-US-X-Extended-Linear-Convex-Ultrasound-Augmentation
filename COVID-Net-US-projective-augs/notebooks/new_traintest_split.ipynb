{
 "cells": [
  {
   "cell_type": "code",
   "execution_count": 1,
   "id": "1779be6c",
   "metadata": {},
   "outputs": [],
   "source": [
    "import numpy as np\n",
    "import pandas as pd\n",
    "import glob\n",
    "import os"
   ]
  },
  {
   "cell_type": "code",
   "execution_count": 2,
   "id": "9636d682",
   "metadata": {},
   "outputs": [],
   "source": [
    "images = glob.glob(\"../data/data/image/clean/*\")"
   ]
  },
  {
   "cell_type": "code",
   "execution_count": 3,
   "id": "66f98c73",
   "metadata": {},
   "outputs": [],
   "source": [
    "images = [os.path.basename(path_name) for path_name in images]"
   ]
  },
  {
   "cell_type": "code",
   "execution_count": 4,
   "id": "df4d5afe",
   "metadata": {},
   "outputs": [],
   "source": [
    "images = pd.DataFrame([filename.split(\"_\") + [filename] for filename in images])"
   ]
  },
  {
   "cell_type": "code",
   "execution_count": 5,
   "id": "8c0cc50a",
   "metadata": {},
   "outputs": [],
   "source": [
    "images.columns = [\"video\", \"dataset\", \"label\", \"prc\", \"probe\", \"clean\", \"frame\", \"filename\"]"
   ]
  },
  {
   "cell_type": "code",
   "execution_count": 6,
   "id": "3fc77771",
   "metadata": {},
   "outputs": [],
   "source": [
    "images[\"binary_label\"] = images[\"label\"].apply(lambda x: \"positive\" if x == \"covid\" else \"negative\")"
   ]
  },
  {
   "cell_type": "code",
   "execution_count": 7,
   "id": "7b549807",
   "metadata": {},
   "outputs": [],
   "source": [
    "images[\"frame\"] = images[\"frame\"].apply(lambda x: int(x[5:-4]))"
   ]
  },
  {
   "cell_type": "code",
   "execution_count": 8,
   "id": "b0e63aee",
   "metadata": {},
   "outputs": [],
   "source": [
    "videos = images[[\"video\", \"dataset\", \"label\", \"probe\"]].drop_duplicates().reset_index(drop=True)"
   ]
  },
  {
   "cell_type": "code",
   "execution_count": 9,
   "id": "b1357541",
   "metadata": {},
   "outputs": [],
   "source": [
    "videos[\"stratify\"] = videos[\"probe\"] + \"_\" + videos[\"label\"]"
   ]
  },
  {
   "cell_type": "code",
   "execution_count": 10,
   "id": "6d3edd23",
   "metadata": {},
   "outputs": [
    {
     "data": {
      "text/plain": [
       "convex_other        68\n",
       "convex_covid        63\n",
       "convex_pneumonia    40\n",
       "linear_other        26\n",
       "convex_normal       19\n",
       "linear_pneumonia     9\n",
       "linear_normal        9\n",
       "linear_covid         8\n",
       "Name: stratify, dtype: int64"
      ]
     },
     "execution_count": 10,
     "metadata": {},
     "output_type": "execute_result"
    }
   ],
   "source": [
    "videos['stratify'].value_counts()"
   ]
  },
  {
   "cell_type": "code",
   "execution_count": 15,
   "id": "c5809273",
   "metadata": {},
   "outputs": [],
   "source": [
    "from sklearn.model_selection import train_test_split"
   ]
  },
  {
   "cell_type": "code",
   "execution_count": 50,
   "id": "6e506722",
   "metadata": {},
   "outputs": [],
   "source": [
    "train, test = train_test_split(videos, stratify=videos[\"stratify\"], test_size=0.15)"
   ]
  },
  {
   "cell_type": "code",
   "execution_count": 55,
   "id": "79934bfb",
   "metadata": {},
   "outputs": [],
   "source": [
    "train, val = train_test_split(train, stratify=train[\"stratify\"], test_size=(0.15/0.85))"
   ]
  },
  {
   "cell_type": "code",
   "execution_count": 96,
   "id": "19b7bdbc",
   "metadata": {},
   "outputs": [],
   "source": [
    "train_images = images[images[\"video\"].isin(train[\"video\"])].sort_values([\"video\", \"frame\"])\n",
    "val_images = images[images[\"video\"].isin(val[\"video\"])].sort_values([\"video\", \"frame\"])\n",
    "test_images = images[images[\"video\"].isin(test[\"video\"])].sort_values([\"video\", \"frame\"])"
   ]
  },
  {
   "cell_type": "code",
   "execution_count": 99,
   "id": "72fa1843",
   "metadata": {},
   "outputs": [
    {
     "data": {
      "text/plain": [
       "True"
      ]
     },
     "execution_count": 99,
     "metadata": {},
     "output_type": "execute_result"
    }
   ],
   "source": [
    "len(train_images) + len(val_images) + len(test_images) == len(images)"
   ]
  },
  {
   "cell_type": "code",
   "execution_count": 104,
   "id": "b7fb78a3",
   "metadata": {},
   "outputs": [],
   "source": [
    "train_images[train_images[\"probe\"] == \"convex\"][[\"video\", \"filename\", \"binary_label\", \"dataset\"]].to_csv(\"../labels/train_test_split_05_27/train_convex.txt\", sep=\" \", header=False, index=False)\n",
    "test_images[test_images[\"probe\"] == \"convex\"][[\"video\", \"filename\", \"binary_label\", \"dataset\"]].to_csv(\"../labels/train_test_split_05_27/test_convex.txt\", sep=\" \", header=False, index=False)\n",
    "val_images[val_images[\"probe\"] == \"convex\"][[\"video\", \"filename\", \"binary_label\", \"dataset\"]].to_csv(\"../labels/train_test_split_05_27/val_convex.txt\", sep=\" \", header=False, index=False)\n",
    "train_images[train_images[\"probe\"] == \"linear\"][[\"video\", \"filename\", \"binary_label\", \"dataset\"]].to_csv(\"../labels/train_test_split_05_27/train_linear.txt\", sep=\" \", header=False, index=False)\n",
    "test_images[test_images[\"probe\"] == \"linear\"][[\"video\", \"filename\", \"binary_label\", \"dataset\"]].to_csv(\"../labels/train_test_split_05_27/test_linear.txt\", sep=\" \", header=False, index=False)\n",
    "val_images[val_images[\"probe\"] == \"linear\"][[\"video\", \"filename\", \"binary_label\", \"dataset\"]].to_csv(\"../labels/train_test_split_05_27/val_linear.txt\", sep=\" \", header=False, index=False)"
   ]
  },
  {
   "cell_type": "code",
   "execution_count": 105,
   "id": "a208aef8",
   "metadata": {},
   "outputs": [],
   "source": [
    "images[images[\"probe\"] == \"linear\"][[\"video\", \"filename\", \"binary_label\", \"dataset\"]].to_csv(\"../labels/train_test_split_05_27/linear.txt\", sep=\" \", header=False, index=False)"
   ]
  },
  {
   "cell_type": "code",
   "execution_count": null,
   "id": "34e16175",
   "metadata": {},
   "outputs": [],
   "source": []
  }
 ],
 "metadata": {
  "kernelspec": {
   "display_name": "Python 3 (ipykernel)",
   "language": "python",
   "name": "python3"
  },
  "language_info": {
   "codemirror_mode": {
    "name": "ipython",
    "version": 3
   },
   "file_extension": ".py",
   "mimetype": "text/x-python",
   "name": "python",
   "nbconvert_exporter": "python",
   "pygments_lexer": "ipython3",
   "version": "3.9.0"
  }
 },
 "nbformat": 4,
 "nbformat_minor": 5
}
